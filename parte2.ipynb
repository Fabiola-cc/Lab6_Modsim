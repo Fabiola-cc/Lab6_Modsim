{
 "cells": [
  {
   "cell_type": "markdown",
   "id": "450dfa03",
   "metadata": {},
   "source": [
    "# Parte 2 - Análisis de Estabilidad con Matriz Jacobiana"
   ]
  },
  {
   "cell_type": "markdown",
   "id": "1dd9d3b7",
   "metadata": {},
   "source": [
    "## 1. Matriz Jacobiana Simbólica"
   ]
  },
  {
   "cell_type": "code",
   "execution_count": 1,
   "id": "aa615ae9",
   "metadata": {},
   "outputs": [],
   "source": [
    "import sympy as sp\n",
    "import numpy as np"
   ]
  },
  {
   "cell_type": "code",
   "execution_count": 2,
   "id": "67fc7aa1",
   "metadata": {},
   "outputs": [],
   "source": [
    "# Definir variables simbólicas\n",
    "S, I = sp.symbols('S I', real=True, positive=True)\n",
    "beta, gamma, mu, N = sp.symbols('beta gamma mu N', real=True, positive=True)\n"
   ]
  },
  {
   "cell_type": "code",
   "execution_count": 3,
   "id": "52b7060a",
   "metadata": {},
   "outputs": [
    {
     "name": "stdout",
     "output_type": "stream",
     "text": [
      "Ecuaciones del modelo:\n",
      "dS/dt = -I*S*beta + N*mu - S*mu\n",
      "dI/dt = I*S*beta - I*gamma - I*mu\n"
     ]
    }
   ],
   "source": [
    "# Escribir las ecuaciones diferenciales\n",
    "dSdt = mu * N - beta * S * I - mu * S\n",
    "dIdt = beta * S * I - gamma * I - mu * I\n",
    "\n",
    "print(\"Ecuaciones del modelo:\")\n",
    "print(f\"dS/dt = {dSdt}\")\n",
    "print(f\"dI/dt = {dIdt}\")\n"
   ]
  },
  {
   "cell_type": "code",
   "execution_count": 4,
   "id": "3b7d6b4f",
   "metadata": {},
   "outputs": [
    {
     "name": "stdout",
     "output_type": "stream",
     "text": [
      "\n",
      "Matriz Jacobiana simbólica:\n",
      "Matrix([[-I*beta - mu, -S*beta], [I*beta, S*beta - gamma - mu]])\n"
     ]
    }
   ],
   "source": [
    "# Crear matriz de ecuaciones y matriz de variables\n",
    "ecuaciones = sp.Matrix([dSdt, dIdt])\n",
    "variables = sp.Matrix([S, I])\n",
    "\n",
    "# Calcular la matriz Jacobiana\n",
    "J = ecuaciones.jacobian(variables)\n",
    "\n",
    "print(\"\\nMatriz Jacobiana simbólica:\")\n",
    "print(J)"
   ]
  },
  {
   "cell_type": "markdown",
   "id": "fd01d39e",
   "metadata": {},
   "source": [
    "## 2. Autovalores del Equilibrio Libre de Enfermedad (ELE)"
   ]
  },
  {
   "cell_type": "code",
   "execution_count": 5,
   "id": "17ef2131",
   "metadata": {},
   "outputs": [
    {
     "name": "stdout",
     "output_type": "stream",
     "text": [
      "\n",
      "Matriz Jacobiana en el ELE (S=N, I=0):\n",
      "Matrix([[-mu, -N*beta], [0, N*beta - gamma - mu]])\n"
     ]
    }
   ],
   "source": [
    "# Sustituir valores del ELE (S=N, I=0)\n",
    "J_ELE = J.subs([(S, N), (I, 0)])\n",
    "\n",
    "print(\"\\nMatriz Jacobiana en el ELE (S=N, I=0):\")\n",
    "print(J_ELE)\n"
   ]
  },
  {
   "cell_type": "code",
   "execution_count": 6,
   "id": "cff70d3e",
   "metadata": {},
   "outputs": [
    {
     "name": "stdout",
     "output_type": "stream",
     "text": [
      "\n",
      "Autovalores simbólicos del ELE:\n",
      "λ = N*beta - gamma - mu (multiplicidad: 1)\n",
      "λ = -mu (multiplicidad: 1)\n"
     ]
    }
   ],
   "source": [
    "# Calcular autovalores simbólicos del ELE\n",
    "autovalores_ELE = J_ELE.eigenvals()\n",
    "\n",
    "print(\"\\nAutovalores simbólicos del ELE:\")\n",
    "for autovalor, multiplicidad in autovalores_ELE.items():\n",
    "    print(f\"λ = {autovalor} (multiplicidad: {multiplicidad})\")"
   ]
  }
 ],
 "metadata": {
  "kernelspec": {
   "display_name": "Python 3",
   "language": "python",
   "name": "python3"
  },
  "language_info": {
   "codemirror_mode": {
    "name": "ipython",
    "version": 3
   },
   "file_extension": ".py",
   "mimetype": "text/x-python",
   "name": "python",
   "nbconvert_exporter": "python",
   "pygments_lexer": "ipython3",
   "version": "3.10.2"
  }
 },
 "nbformat": 4,
 "nbformat_minor": 5
}
