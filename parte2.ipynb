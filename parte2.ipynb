{
 "cells": [
  {
   "cell_type": "markdown",
   "id": "450dfa03",
   "metadata": {},
   "source": [
    "# Parte 2 - Análisis de Estabilidad con Matriz Jacobiana"
   ]
  },
  {
   "cell_type": "markdown",
   "id": "1dd9d3b7",
   "metadata": {},
   "source": [
    "## 1. Matriz Jacobiana Simbólica"
   ]
  },
  {
   "cell_type": "code",
   "execution_count": 3,
   "id": "aa615ae9",
   "metadata": {},
   "outputs": [],
   "source": [
    "import sympy as sp\n",
    "import numpy as np"
   ]
  },
  {
   "cell_type": "code",
   "execution_count": 4,
   "id": "67fc7aa1",
   "metadata": {},
   "outputs": [],
   "source": [
    "# Definir variables simbólicas\n",
    "S, I = sp.symbols('S I', real=True, positive=True)\n",
    "beta, gamma, mu, N = sp.symbols('beta gamma mu N', real=True, positive=True)\n"
   ]
  },
  {
   "cell_type": "code",
   "execution_count": 5,
   "id": "52b7060a",
   "metadata": {},
   "outputs": [
    {
     "name": "stdout",
     "output_type": "stream",
     "text": [
      "Ecuaciones del modelo:\n",
      "dS/dt = -I*S*beta + N*mu - S*mu\n",
      "dI/dt = I*S*beta - I*gamma - I*mu\n"
     ]
    }
   ],
   "source": [
    "# Escribir las ecuaciones diferenciales\n",
    "dSdt = mu * N - beta * S * I - mu * S\n",
    "dIdt = beta * S * I - gamma * I - mu * I\n",
    "\n",
    "print(\"Ecuaciones del modelo:\")\n",
    "print(f\"dS/dt = {dSdt}\")\n",
    "print(f\"dI/dt = {dIdt}\")\n"
   ]
  },
  {
   "cell_type": "code",
   "execution_count": 6,
   "id": "3b7d6b4f",
   "metadata": {},
   "outputs": [
    {
     "name": "stdout",
     "output_type": "stream",
     "text": [
      "\n",
      "Matriz Jacobiana simbólica:\n",
      "Matrix([[-I*beta - mu, -S*beta], [I*beta, S*beta - gamma - mu]])\n"
     ]
    }
   ],
   "source": [
    "# Crear matriz de ecuaciones y matriz de variables\n",
    "ecuaciones = sp.Matrix([dSdt, dIdt])\n",
    "variables = sp.Matrix([S, I])\n",
    "\n",
    "# Calcular la matriz Jacobiana\n",
    "J = ecuaciones.jacobian(variables)\n",
    "\n",
    "print(\"\\nMatriz Jacobiana simbólica:\")\n",
    "print(J)"
   ]
  },
  {
   "cell_type": "markdown",
   "id": "fd01d39e",
   "metadata": {},
   "source": [
    "## 2. Autovalores del Equilibrio Libre de Enfermedad (ELE)"
   ]
  },
  {
   "cell_type": "code",
   "execution_count": 7,
   "id": "17ef2131",
   "metadata": {},
   "outputs": [
    {
     "name": "stdout",
     "output_type": "stream",
     "text": [
      "\n",
      "Matriz Jacobiana en el ELE (S=N, I=0):\n",
      "Matrix([[-mu, -N*beta], [0, N*beta - gamma - mu]])\n"
     ]
    }
   ],
   "source": [
    "# Sustituir valores del ELE (S=N, I=0)\n",
    "J_ELE = J.subs([(S, N), (I, 0)])\n",
    "\n",
    "print(\"\\nMatriz Jacobiana en el ELE (S=N, I=0):\")\n",
    "print(J_ELE)\n"
   ]
  },
  {
   "cell_type": "code",
   "execution_count": 8,
   "id": "cff70d3e",
   "metadata": {},
   "outputs": [
    {
     "name": "stdout",
     "output_type": "stream",
     "text": [
      "\n",
      "Autovalores simbólicos del ELE:\n",
      "λ = N*beta - gamma - mu (multiplicidad: 1)\n",
      "λ = -mu (multiplicidad: 1)\n"
     ]
    }
   ],
   "source": [
    "# Calcular autovalores simbólicos del ELE\n",
    "autovalores_ELE = J_ELE.eigenvals()\n",
    "\n",
    "print(\"\\nAutovalores simbólicos del ELE:\")\n",
    "for autovalor, multiplicidad in autovalores_ELE.items():\n",
    "    print(f\"λ = {autovalor} (multiplicidad: {multiplicidad})\")"
   ]
  },
  {
   "cell_type": "markdown",
   "id": "d9e8f43e",
   "metadata": {},
   "source": [
    "#  Equilibrio Endémico "
   ]
  },
  {
   "cell_type": "code",
   "execution_count": 9,
   "id": "ae2fed1f",
   "metadata": {},
   "outputs": [
    {
     "name": "stdout",
     "output_type": "stream",
     "text": [
      "\n",
      "Coordenadas del Equilibrio Endémico:\n",
      "S* = 240.0\n",
      "I* = 126.66666666666669\n",
      "\n",
      "Matriz Jacobiana numérica en el Equilibrio Endémico:\n",
      "[[-8.33333333e-02 -1.20000000e-01]\n",
      " [ 6.33333333e-02 -1.38777878e-17]]\n"
     ]
    }
   ],
   "source": [
    "parametros = {N: 1000, beta: 0.5/1000, gamma: 0.1, mu: 0.02}\n",
    "\n",
    "# Calcular coordenadas del equilibrio endémico\n",
    "# S* = (gamma + mu)/beta, I* = mu*(N - S*) / (beta*S*)\n",
    "S_star = (parametros[gamma] + parametros[mu])/parametros[beta]\n",
    "I_star = parametros[mu] * (parametros[N] - S_star) / (parametros[beta] * S_star)\n",
    "print(\"\\nCoordenadas del Equilibrio Endémico:\")\n",
    "print(f\"S* = {S_star}\")\n",
    "print(f\"I* = {I_star}\")\n",
    "\n",
    "# Sustituir parámetros en el Jacobiano simbólico\n",
    "J_num = J.subs(parametros)\n",
    "\n",
    "# Sustituir S* e I* en la matriz\n",
    "J_num = J_num.subs({S: S_star, I: I_star})\n",
    "\n",
    "# Convertir a valores numéricos\n",
    "J_num = np.array(J_num).astype(np.float64)\n",
    "print(\"\\nMatriz Jacobiana numérica en el Equilibrio Endémico:\")\n",
    "print(J_num)"
   ]
  },
  {
   "cell_type": "code",
   "execution_count": 10,
   "id": "c74bc8bd",
   "metadata": {},
   "outputs": [
    {
     "name": "stdout",
     "output_type": "stream",
     "text": [
      "\n",
      "Autovalores numéricos del Equilibrio Endémico:\n",
      "[-0.04166667+0.07657603j -0.04166667-0.07657603j]\n"
     ]
    }
   ],
   "source": [
    "autovalores_endemico = np.linalg.eigvals(J_num)\n",
    "print(\"\\nAutovalores numéricos del Equilibrio Endémico:\")\n",
    "print(autovalores_endemico)"
   ]
  }
 ],
 "metadata": {
  "kernelspec": {
   "display_name": "Python 3",
   "language": "python",
   "name": "python3"
  },
  "language_info": {
   "codemirror_mode": {
    "name": "ipython",
    "version": 3
   },
   "file_extension": ".py",
   "mimetype": "text/x-python",
   "name": "python",
   "nbconvert_exporter": "python",
   "pygments_lexer": "ipython3",
   "version": "3.11.4"
  }
 },
 "nbformat": 4,
 "nbformat_minor": 5
}
